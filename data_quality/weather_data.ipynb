{
 "cells": [
  {
   "cell_type": "code",
   "execution_count": null,
   "id": "0285fa05-d7d2-4588-b4f4-49ce2d2be171",
   "metadata": {},
   "outputs": [],
   "source": [
    "pip install python-dotenv"
   ]
  },
  {
   "cell_type": "code",
   "execution_count": null,
   "id": "ebbc76fb-5180-44a5-ac1d-e715e13d2dc9",
   "metadata": {},
   "outputs": [],
   "source": [
    "from dotenv import load_dotenv\n",
    "import os\n",
    "load_dotenv()\n",
    "api_key = os.getenv('WEATHER_API_KEY')"
   ]
  },
  {
   "cell_type": "code",
   "execution_count": null,
   "id": "1aad1ecb-7aa9-4d1c-ae10-0f00c1519582",
   "metadata": {},
   "outputs": [],
   "source": [
    "# fetching the data from apis\n",
    "!pip install requests"
   ]
  },
  {
   "cell_type": "code",
   "execution_count": null,
   "id": "724e2ec5-7614-41a4-b9e7-c9f893413798",
   "metadata": {},
   "outputs": [],
   "source": [
    "import requests\n",
    "import pandas as pd"
   ]
  },
  {
   "cell_type": "code",
   "execution_count": null,
   "id": "49e7efe8-3630-4b91-9cd3-4e203eacbb70",
   "metadata": {},
   "outputs": [],
   "source": [
    "base_urls = \"https://api.openweathermap.org/data/2.5/weather\"\n",
    "params = {\n",
    "    \"q\":\"Kathmandu\",\n",
    "    \"appid\":api_key,\n",
    "    \"units\":\"metric\"\n",
    "}\n",
    "try:\n",
    "    response = requests.get(base_urls, params=params)\n",
    "    if response.status_code == 200:\n",
    "        data = response.json()\n",
    "        print(data)\n",
    "    else:\n",
    "        print(f\"Error: {response.status_code}, {response.text}\")\n",
    "except json.JSONDecodeError as e:\n",
    "    print(\"Invalid JSON response:\", e)\n",
    "except requests.exceptions.RequestException as e:\n",
    "    print(\"Request failed:\", e)"
   ]
  },
  {
   "cell_type": "code",
   "execution_count": null,
   "id": "1c5a7a3a-c89a-403f-ac4c-61fe048ae58c",
   "metadata": {},
   "outputs": [],
   "source": [
    "data_count = 0\n",
    "max_data_points = 10  "
   ]
  },
  {
   "cell_type": "code",
   "execution_count": null,
   "id": "25e32fb4-c6f2-470e-be4b-6fa1b6f3b700",
   "metadata": {},
   "outputs": [],
   "source": [
    "while data_count < max_data_points:\n",
    "    try:\n",
    "        response = requests.get(base_urls, params=params)\n",
    "        if response.status_code == 200:\n",
    "            data = response.json()\n",
    "            weather_data = {\n",
    "                \"date\": pd.Timestamp.now(),\n",
    "                \"temperature\": data[\"main\"][\"temp\"],\n",
    "                \"humidity\": data[\"main\"][\"humidity\"],\n",
    "                \"wind_speed\": data[\"wind\"][\"speed\"],\n",
    "                \"rainfall\": data.get(\"rain\", {}).get(\"1h\", 0)\n",
    "            }\n",
    "            df = pd.DataFrame([weather_data])\n",
    "            df.to_csv(\"weather_data.csv\", mode=\"a\", index=False, header=False)\n",
    "            data_count += 1  # Increment the counter\n",
    "            print(f\"Data {data_count} fetched successfully!\")\n",
    "        else:\n",
    "            print(f\"Error: {response.status_code}, {response.text}\")\n",
    "    except requests.exceptions.RequestException as e:\n",
    "        print(f\"Request failed: {e}\")\n",
    "    \n",
    "    time.sleep(3600)\n",
    "    \n",
    "print(\"Data collection completed. 10 data points fetched.\")"
   ]
  }
 ],
 "metadata": {
  "kernelspec": {
   "display_name": "Python 3 (ipykernel)",
   "language": "python",
   "name": "python3"
  },
  "language_info": {
   "codemirror_mode": {
    "name": "ipython",
    "version": 3
   },
   "file_extension": ".py",
   "mimetype": "text/x-python",
   "name": "python",
   "nbconvert_exporter": "python",
   "pygments_lexer": "ipython3",
   "version": "3.12.0"
  }
 },
 "nbformat": 4,
 "nbformat_minor": 5
}
